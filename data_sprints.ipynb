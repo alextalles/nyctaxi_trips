{
 "cells": [
  {
   "cell_type": "code",
   "execution_count": 60,
   "metadata": {},
   "outputs": [],
   "source": [
    "# Bilbiotecas necessárias.\n",
    "import json\n",
    "import pandas as pd\n",
    "import matplotlib.pyplot as plt\n",
    "import numpy as np\n",
    "import datetime"
   ]
  },
  {
   "cell_type": "code",
   "execution_count": 59,
   "metadata": {},
   "outputs": [],
   "source": [
    "# Ler o arquivo JSON.\n",
    "data_json = []\n",
    "file_json = 'C:/Users/Alex Talles Viana/Desktop/nyctaxi_trips_2009.json.json'\n",
    "with open(file_json, 'r') as f:\n",
    "    for line in f:\n",
    "        data_json.append(json.loads(line))\n",
    "        \n",
    "#file_json.close()"
   ]
  },
  {
   "cell_type": "code",
   "execution_count": 10,
   "metadata": {},
   "outputs": [
    {
     "data": {
      "text/html": [
       "<div>\n",
       "<style scoped>\n",
       "    .dataframe tbody tr th:only-of-type {\n",
       "        vertical-align: middle;\n",
       "    }\n",
       "\n",
       "    .dataframe tbody tr th {\n",
       "        vertical-align: top;\n",
       "    }\n",
       "\n",
       "    .dataframe thead th {\n",
       "        text-align: right;\n",
       "    }\n",
       "</style>\n",
       "<table border=\"1\" class=\"dataframe\">\n",
       "  <thead>\n",
       "    <tr style=\"text-align: right;\">\n",
       "      <th></th>\n",
       "      <th>dropoff_datetime</th>\n",
       "      <th>dropoff_latitude</th>\n",
       "      <th>dropoff_longitude</th>\n",
       "      <th>fare_amount</th>\n",
       "      <th>passenger_count</th>\n",
       "      <th>payment_type</th>\n",
       "      <th>pickup_datetime</th>\n",
       "      <th>pickup_latitude</th>\n",
       "      <th>pickup_longitude</th>\n",
       "      <th>rate_code</th>\n",
       "      <th>store_and_fwd_flag</th>\n",
       "      <th>surcharge</th>\n",
       "      <th>tip_amount</th>\n",
       "      <th>tolls_amount</th>\n",
       "      <th>total_amount</th>\n",
       "      <th>trip_distance</th>\n",
       "      <th>vendor_id</th>\n",
       "    </tr>\n",
       "  </thead>\n",
       "  <tbody>\n",
       "    <tr>\n",
       "      <th>0</th>\n",
       "      <td>2009-04-21T18:57:09.433767+00:00</td>\n",
       "      <td>40.747950</td>\n",
       "      <td>-73.994712</td>\n",
       "      <td>5.4</td>\n",
       "      <td>2</td>\n",
       "      <td>Cash</td>\n",
       "      <td>2009-04-21T18:51:11.767205+00:00</td>\n",
       "      <td>40.742950</td>\n",
       "      <td>-74.004114</td>\n",
       "      <td>None</td>\n",
       "      <td>NaN</td>\n",
       "      <td>0.0</td>\n",
       "      <td>0.0</td>\n",
       "      <td>0.0</td>\n",
       "      <td>5.4</td>\n",
       "      <td>0.80</td>\n",
       "      <td>CMT</td>\n",
       "    </tr>\n",
       "    <tr>\n",
       "      <th>1</th>\n",
       "      <td>2009-01-13T07:50:36.386011+00:00</td>\n",
       "      <td>40.792385</td>\n",
       "      <td>-73.940449</td>\n",
       "      <td>15.4</td>\n",
       "      <td>1</td>\n",
       "      <td>Cash</td>\n",
       "      <td>2009-01-13T07:40:07.639754+00:00</td>\n",
       "      <td>40.747784</td>\n",
       "      <td>-73.996506</td>\n",
       "      <td>None</td>\n",
       "      <td>NaN</td>\n",
       "      <td>0.0</td>\n",
       "      <td>0.0</td>\n",
       "      <td>0.0</td>\n",
       "      <td>15.4</td>\n",
       "      <td>5.40</td>\n",
       "      <td>CMT</td>\n",
       "    </tr>\n",
       "    <tr>\n",
       "      <th>2</th>\n",
       "      <td>2009-01-06T19:43:09.908429+00:00</td>\n",
       "      <td>40.768108</td>\n",
       "      <td>-73.944535</td>\n",
       "      <td>6.1</td>\n",
       "      <td>5</td>\n",
       "      <td>CASH</td>\n",
       "      <td>2009-01-06T19:30:44.142187+00:00</td>\n",
       "      <td>40.752070</td>\n",
       "      <td>-73.951340</td>\n",
       "      <td>None</td>\n",
       "      <td>NaN</td>\n",
       "      <td>1.0</td>\n",
       "      <td>0.0</td>\n",
       "      <td>0.0</td>\n",
       "      <td>7.1</td>\n",
       "      <td>1.67</td>\n",
       "      <td>VTS</td>\n",
       "    </tr>\n",
       "    <tr>\n",
       "      <th>3</th>\n",
       "      <td>2009-09-24T08:41:56.739991+00:00</td>\n",
       "      <td>40.721812</td>\n",
       "      <td>-73.958122</td>\n",
       "      <td>12.9</td>\n",
       "      <td>1</td>\n",
       "      <td>CASH</td>\n",
       "      <td>2009-09-24T08:28:09.004451+00:00</td>\n",
       "      <td>40.729128</td>\n",
       "      <td>-74.001117</td>\n",
       "      <td>None</td>\n",
       "      <td>NaN</td>\n",
       "      <td>0.5</td>\n",
       "      <td>0.0</td>\n",
       "      <td>0.0</td>\n",
       "      <td>13.4</td>\n",
       "      <td>4.13</td>\n",
       "      <td>VTS</td>\n",
       "    </tr>\n",
       "    <tr>\n",
       "      <th>4</th>\n",
       "      <td>2009-10-29T05:57:22.880174+00:00</td>\n",
       "      <td>40.776075</td>\n",
       "      <td>-73.979757</td>\n",
       "      <td>7.7</td>\n",
       "      <td>1</td>\n",
       "      <td>CASH</td>\n",
       "      <td>2009-10-29T05:50:39.214629+00:00</td>\n",
       "      <td>40.756873</td>\n",
       "      <td>-73.976600</td>\n",
       "      <td>None</td>\n",
       "      <td>NaN</td>\n",
       "      <td>0.5</td>\n",
       "      <td>0.0</td>\n",
       "      <td>0.0</td>\n",
       "      <td>8.2</td>\n",
       "      <td>2.03</td>\n",
       "      <td>VTS</td>\n",
       "    </tr>\n",
       "  </tbody>\n",
       "</table>\n",
       "</div>"
      ],
      "text/plain": [
       "                   dropoff_datetime  dropoff_latitude  dropoff_longitude  \\\n",
       "0  2009-04-21T18:57:09.433767+00:00         40.747950         -73.994712   \n",
       "1  2009-01-13T07:50:36.386011+00:00         40.792385         -73.940449   \n",
       "2  2009-01-06T19:43:09.908429+00:00         40.768108         -73.944535   \n",
       "3  2009-09-24T08:41:56.739991+00:00         40.721812         -73.958122   \n",
       "4  2009-10-29T05:57:22.880174+00:00         40.776075         -73.979757   \n",
       "\n",
       "   fare_amount  passenger_count payment_type  \\\n",
       "0          5.4                2         Cash   \n",
       "1         15.4                1         Cash   \n",
       "2          6.1                5         CASH   \n",
       "3         12.9                1         CASH   \n",
       "4          7.7                1         CASH   \n",
       "\n",
       "                    pickup_datetime  pickup_latitude  pickup_longitude  \\\n",
       "0  2009-04-21T18:51:11.767205+00:00        40.742950        -74.004114   \n",
       "1  2009-01-13T07:40:07.639754+00:00        40.747784        -73.996506   \n",
       "2  2009-01-06T19:30:44.142187+00:00        40.752070        -73.951340   \n",
       "3  2009-09-24T08:28:09.004451+00:00        40.729128        -74.001117   \n",
       "4  2009-10-29T05:50:39.214629+00:00        40.756873        -73.976600   \n",
       "\n",
       "  rate_code  store_and_fwd_flag  surcharge  tip_amount  tolls_amount  \\\n",
       "0      None                 NaN        0.0         0.0           0.0   \n",
       "1      None                 NaN        0.0         0.0           0.0   \n",
       "2      None                 NaN        1.0         0.0           0.0   \n",
       "3      None                 NaN        0.5         0.0           0.0   \n",
       "4      None                 NaN        0.5         0.0           0.0   \n",
       "\n",
       "   total_amount  trip_distance vendor_id  \n",
       "0           5.4           0.80       CMT  \n",
       "1          15.4           5.40       CMT  \n",
       "2           7.1           1.67       VTS  \n",
       "3          13.4           4.13       VTS  \n",
       "4           8.2           2.03       VTS  "
      ]
     },
     "execution_count": 10,
     "metadata": {},
     "output_type": "execute_result"
    }
   ],
   "source": [
    "# Tranforma JSON em DataFrame.\n",
    "nyc_df_2009 = pd.DataFrame(data_json)\n",
    "#nyc_df_2010 = pd.DataFrame(data_json)\n",
    "#nyc_df_2011 = pd.DataFrame(data_json)\n",
    "#nyc_df_2012 = pd.DataFrame(data_json)\n",
    "nyc_df_2009.head()"
   ]
  },
  {
   "cell_type": "code",
   "execution_count": null,
   "metadata": {},
   "outputs": [],
   "source": [
    "# Qual a distância média percorrida por viagens com no máximo 2 passageiros? "
   ]
  },
  {
   "cell_type": "code",
   "execution_count": 46,
   "metadata": {},
   "outputs": [
    {
     "name": "stdout",
     "output_type": "stream",
     "text": [
      "A distância média percorrida é: 2.662526996203298\n"
     ]
    }
   ],
   "source": [
    "distance_avg_trip = nyc_df_2009['trip_distance'][(nyc_df_2009.loc[:, 'passenger_count']) <= 2]\n",
    "\n",
    "print(f'A distância média percorrida é: {distance_avg_trip.mean()}')"
   ]
  },
  {
   "cell_type": "code",
   "execution_count": 5,
   "metadata": {},
   "outputs": [],
   "source": [
    "# Quais os 3 maiores Vendors em quantidade total de dinheiro arrecadado?"
   ]
  },
  {
   "cell_type": "code",
   "execution_count": 48,
   "metadata": {},
   "outputs": [
    {
     "name": "stdout",
     "output_type": "stream",
     "text": [
      "Os maiores vendors são: vendor_id\n",
      "CMT    230.0\n",
      "DDS    185.0\n",
      "TS      11.4\n",
      "VTS    217.2\n",
      "Name: total_amount, dtype: float64\n"
     ]
    }
   ],
   "source": [
    "vendors = nyc_df_2009.groupby('vendor_id')['total_amount'].max()\n",
    "\n",
    "print(f'Os maiores vendors são: {vendors}')"
   ]
  },
  {
   "cell_type": "code",
   "execution_count": null,
   "metadata": {},
   "outputs": [],
   "source": [
    "# Faça um histograma da distribuição mensal, nos 4 anos, de corridas pagas em  dinheiro."
   ]
  },
  {
   "cell_type": "code",
   "execution_count": 53,
   "metadata": {},
   "outputs": [
    {
     "ename": "TypeError",
     "evalue": "__init__() got an unexpected keyword argument 'parse_dates'",
     "output_type": "error",
     "traceback": [
      "\u001b[1;31m---------------------------------------------------------------------------\u001b[0m",
      "\u001b[1;31mTypeError\u001b[0m                                 Traceback (most recent call last)",
      "\u001b[1;32m<ipython-input-53-4fecbd2ab0d5>\u001b[0m in \u001b[0;36m<module>\u001b[1;34m\u001b[0m\n\u001b[0;32m      1\u001b[0m \u001b[0mdateparse\u001b[0m \u001b[1;33m=\u001b[0m \u001b[1;32mlambda\u001b[0m \u001b[0mdates\u001b[0m\u001b[1;33m:\u001b[0m \u001b[0mpd\u001b[0m\u001b[1;33m.\u001b[0m\u001b[0mdatetime\u001b[0m\u001b[1;33m.\u001b[0m\u001b[0mstrptime\u001b[0m\u001b[1;33m(\u001b[0m\u001b[0mdates\u001b[0m\u001b[1;33m,\u001b[0m \u001b[1;34m'%Y'\u001b[0m\u001b[1;33m)\u001b[0m\u001b[1;33m\u001b[0m\u001b[1;33m\u001b[0m\u001b[0m\n\u001b[1;32m----> 2\u001b[1;33m \u001b[0mdata\u001b[0m \u001b[1;33m=\u001b[0m \u001b[0mpd\u001b[0m\u001b[1;33m.\u001b[0m\u001b[0mDataFrame\u001b[0m\u001b[1;33m(\u001b[0m\u001b[0mnyc_df_2009\u001b[0m\u001b[1;33m,\u001b[0m \u001b[0mparse_dates\u001b[0m \u001b[1;33m=\u001b[0m\u001b[1;34m'pickup_datetime'\u001b[0m\u001b[1;33m,\u001b[0m \u001b[0mindex_col\u001b[0m \u001b[1;33m=\u001b[0m \u001b[1;34m'pickup_datetime'\u001b[0m\u001b[1;33m,\u001b[0m \u001b[0mdate_parse\u001b[0m \u001b[1;33m=\u001b[0m \u001b[1;34m'dateparse'\u001b[0m\u001b[1;33m)\u001b[0m\u001b[1;33m\u001b[0m\u001b[1;33m\u001b[0m\u001b[0m\n\u001b[0m\u001b[0;32m      3\u001b[0m \u001b[0mdata\u001b[0m\u001b[1;33m.\u001b[0m\u001b[0mhead\u001b[0m\u001b[1;33m(\u001b[0m\u001b[1;33m)\u001b[0m\u001b[1;33m\u001b[0m\u001b[1;33m\u001b[0m\u001b[0m\n\u001b[0;32m      4\u001b[0m \u001b[1;33m\u001b[0m\u001b[0m\n\u001b[0;32m      5\u001b[0m \u001b[1;31m# Método para converter para data.\u001b[0m\u001b[1;33m\u001b[0m\u001b[1;33m\u001b[0m\u001b[1;33m\u001b[0m\u001b[0m\n",
      "\u001b[1;31mTypeError\u001b[0m: __init__() got an unexpected keyword argument 'parse_dates'"
     ]
    }
   ],
   "source": [
    "dateparse = lambda dates: pd.datetime.strptime(dates, '%Y') \n",
    "data = pd.DataFrame(nyc_df_2009, parse_dates ='pickup_datetime', index_col = 'pickup_datetime', date_parse = 'dateparse') \n",
    "data.head()\n",
    "\n",
    "# Método para converter para data.\n",
    "#def parse_date(row):\n",
    "    #date = datetime.datetime.strptime(row['pickup_datetime'], '%Y-%m-%dT%H:%M:%S').split(':')\n",
    "    #return parse_date(row)\n",
    "\n",
    "#parse_date(row)\n",
    "\n",
    "#trip_cash_payment = nyc_df['pickup_datetime'][(nyc_df.loc[:, 'payment_type']) == 'Cash']\n",
    "#trip_cash_payment.describe()\n",
    "\n",
    "#histogram = nyc_df['payment_type'].hist(bins=30, figsize=(15,5))\n",
    "#plota o ano no eixo X e o tipo de pagamento no eixo Y.\n",
    "#histogram.title(\"Corrigas Pagas em Cash nos 4 anos\")\n",
    "#histogram.xlabel(\"Ano\")\n",
    "#histogram.ylabel(\"Tipo de Pagamento\")\n",
    "#mostra o gráfico\n",
    "#plt.show()"
   ]
  },
  {
   "cell_type": "code",
   "execution_count": 45,
   "metadata": {},
   "outputs": [],
   "source": [
    "# Faça um gráfico de série temporal contando a quantidade de gorjetas de cada dia, nos últimos 3 meses de 2012."
   ]
  },
  {
   "cell_type": "code",
   "execution_count": null,
   "metadata": {},
   "outputs": [],
   "source": []
  },
  {
   "cell_type": "code",
   "execution_count": null,
   "metadata": {},
   "outputs": [],
   "source": [
    "# Qual o tempo médio das corridas nos dias de sábado e domingo?"
   ]
  },
  {
   "cell_type": "code",
   "execution_count": null,
   "metadata": {},
   "outputs": [],
   "source": []
  },
  {
   "cell_type": "code",
   "execution_count": null,
   "metadata": {},
   "outputs": [],
   "source": [
    "# Fazer uma visualização em mapa com latitude e longitude de pickups e dropoffs no ano de 2010."
   ]
  },
  {
   "cell_type": "code",
   "execution_count": null,
   "metadata": {},
   "outputs": [],
   "source": []
  }
 ],
 "metadata": {
  "kernelspec": {
   "display_name": "Python 3",
   "language": "python",
   "name": "python3"
  },
  "language_info": {
   "codemirror_mode": {
    "name": "ipython",
    "version": 3
   },
   "file_extension": ".py",
   "mimetype": "text/x-python",
   "name": "python",
   "nbconvert_exporter": "python",
   "pygments_lexer": "ipython3",
   "version": "3.7.1"
  }
 },
 "nbformat": 4,
 "nbformat_minor": 2
}
